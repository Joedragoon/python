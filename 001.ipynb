{
  "nbformat": 4,
  "nbformat_minor": 0,
  "metadata": {
    "colab": {
      "name": "Untitled",
      "provenance": [],
      "authorship_tag": "ABX9TyPPU2qxWXI2G+FwNR4W1IPh",
      "include_colab_link": true
    },
    "kernelspec": {
      "name": "python3",
      "display_name": "Python 3"
    }
  },
  "cells": [
    {
      "cell_type": "markdown",
      "metadata": {
        "id": "view-in-github",
        "colab_type": "text"
      },
      "source": [
        "<a href=\"https://colab.research.google.com/github/Joedragoon/python/blob/main/001.ipynb\" target=\"_parent\"><img src=\"https://colab.research.google.com/assets/colab-badge.svg\" alt=\"Open In Colab\"/></a>"
      ]
    },
    {
      "cell_type": "code",
      "metadata": {
        "id": "vf57S9eE4gCc",
        "outputId": "1029c087-7f8c-4f60-dea6-114d89fe41e2",
        "colab": {
          "base_uri": "https://localhost:8080/",
          "height": 34
        }
      },
      "source": [
        "# 001\n",
        "\"\"\" primer pyton  con 3 comillas puedes\n",
        "poner textos en varias lineas\n",
        "\"\"\"\n",
        "'''\n",
        "tambien valen cencillas\n",
        "es lo mismo\n",
        "'''\n",
        "\n",
        "texto1 = str (\"Hola mundo\") #dato tipo texto\n",
        "print (texto1)"
      ],
      "execution_count": 4,
      "outputs": [
        {
          "output_type": "stream",
          "text": [
            "Hola mundo\n"
          ],
          "name": "stdout"
        }
      ]
    }
  ]
}