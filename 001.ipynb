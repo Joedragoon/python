{
  "nbformat": 4,
  "nbformat_minor": 0,
  "metadata": {
    "colab": {
      "name": "Untitled",
      "provenance": [],
      "authorship_tag": "ABX9TyNg2U8Oh3WM19dxnQtwuve0",
      "include_colab_link": true
    },
    "kernelspec": {
      "name": "python3",
      "display_name": "Python 3"
    }
  },
  "cells": [
    {
      "cell_type": "markdown",
      "metadata": {
        "id": "view-in-github",
        "colab_type": "text"
      },
      "source": [
        "<a href=\"https://colab.research.google.com/github/Joedragoon/python/blob/main/001.ipynb\" target=\"_parent\"><img src=\"https://colab.research.google.com/assets/colab-badge.svg\" alt=\"Open In Colab\"/></a>"
      ]
    },
    {
      "cell_type": "code",
      "metadata": {
        "id": "vf57S9eE4gCc",
        "outputId": "082128a4-9419-43b5-862a-64859cd1afed",
        "colab": {
          "base_uri": "https://localhost:8080/",
          "height": 52
        }
      },
      "source": [
        "# 001\n",
        "\"\"\" primer python  con 3 comillas puedes\n",
        "poner textos en varias lineas\n",
        "\"\"\"\n",
        "'''\n",
        "tambien valen comillas simples\n",
        "es lo mismo\n",
        "'''\n",
        "\n",
        "texto1 = str (\"Hola mundo\") #dato tipo texto\n",
        "num1 = int (2)  #tipo de dato entero\n",
        "num2 = float (2.1)  #tipo de dato decimal\n",
        "print (texto1)\n",
        "print (num1+num2)"
      ],
      "execution_count": 11,
      "outputs": [
        {
          "output_type": "stream",
          "text": [
            "Hola mundo\n",
            "4.1\n"
          ],
          "name": "stdout"
        }
      ]
    }
  ]
}