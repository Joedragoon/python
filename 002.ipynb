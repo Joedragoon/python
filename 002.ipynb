{
  "nbformat": 4,
  "nbformat_minor": 0,
  "metadata": {
    "colab": {
      "name": "Untitled0.ipynb",
      "provenance": [],
      "authorship_tag": "ABX9TyMiVm4tS31ZwyKUBNeh97Cv",
      "include_colab_link": true
    },
    "kernelspec": {
      "name": "python3",
      "display_name": "Python 3"
    }
  },
  "cells": [
    {
      "cell_type": "markdown",
      "metadata": {
        "id": "view-in-github",
        "colab_type": "text"
      },
      "source": [
        "<a href=\"https://colab.research.google.com/github/Joedragoon/python/blob/main/002.ipynb\" target=\"_parent\"><img src=\"https://colab.research.google.com/assets/colab-badge.svg\" alt=\"Open In Colab\"/></a>"
      ]
    },
    {
      "cell_type": "code",
      "metadata": {
        "id": "RpV_LrtX_jdz",
        "outputId": "c44ccf0d-b97a-4e9e-92c2-b206b3dec8bf",
        "colab": {
          "base_uri": "https://localhost:8080/",
          "height": 102
        }
      },
      "source": [
        "texto =str('Hola mundo')\n",
        "\n",
        "\n",
        "# no es necesario declarar el tipo de dato , pero si se hace para las conversiones\n",
        "\"\"\"\n",
        "Con triple comilla\n",
        "ya se puede hacer comentarios mas grandes\n",
        "\"\"\"\n",
        "variable2 = int(1) \n",
        "variable3 = float(3.4444) \n",
        "suma = variable2 + variable3\n",
        "logica= bool(True)\n",
        "\n",
        "variabletextolarga2=\"\"\"la casa de Pablo esta pintada de blanco\n",
        "y rosa palo\"\"\"  #va con triple comilla, y puede ir con salto de página\n",
        "\n",
        "fruta =\"banana\"\n",
        "letra=fruta[1]\n",
        "print (letra)\n",
        "\n",
        "print (suma)\n",
        "print (texto)\n",
        "print (variabletextolarga)\n",
        "longitud= len(variabletextolarga)  # usar control espacio para que salga la lista de variables\n",
        "#variabletextolarga= replace(\"k\",\"p\")\n",
        "print (longitud)"
      ],
      "execution_count": 16,
      "outputs": [
        {
          "output_type": "stream",
          "text": [
            "a\n",
            "4.4444\n",
            "Hola mundo\n",
            "fruta\n",
            "5\n"
          ],
          "name": "stdout"
        }
      ]
    },
    {
      "cell_type": "code",
      "metadata": {
        "id": "vxOIJ1Lh_wL1"
      },
      "source": [
        ""
      ],
      "execution_count": 1,
      "outputs": []
    }
  ]
}